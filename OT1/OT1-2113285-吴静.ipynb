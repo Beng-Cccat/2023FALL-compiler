{
 "cells": [
  {
   "cell_type": "code",
   "execution_count": 1,
   "id": "c99cf24c",
   "metadata": {},
   "outputs": [],
   "source": [
    "from graphviz import Digraph\n",
    "from copy import deepcopy"
   ]
  },
  {
   "cell_type": "code",
   "execution_count": 2,
   "id": "19a763fd",
   "metadata": {},
   "outputs": [],
   "source": [
    "def move2(src,path):\n",
    "    global DFA\n",
    "    \n",
    "    # 根据初始状态点和转移函数获取结束状态\n",
    "    for i in range(len(DFA)):\n",
    "        if(DFA[i][0]==src and DFA[i][1]==path):\n",
    "            return DFA[i][2]\n",
    "    return ' '"
   ]
  },
  {
   "cell_type": "code",
   "execution_count": 3,
   "id": "4dcf3be8",
   "metadata": {},
   "outputs": [],
   "source": [
    "def get_source_state(des_state_set,path):\n",
    "    global allstatus\n",
    "\n",
    "    #allStatus=set(allstatus)\n",
    "    src_set=set()\n",
    "    \n",
    "    for state in allstatus:\n",
    "        if move2(state,path) in des_state_set:\n",
    "            src_set.update(state)\n",
    "            #合并字典或集合的内容\n",
    "            #如果在合并过程中有相同的键或元素，它将覆盖旧的键值对或元素\n",
    "    \n",
    "    return src_set"
   ]
  },
  {
   "cell_type": "code",
   "execution_count": 4,
   "id": "c4799aaa",
   "metadata": {},
   "outputs": [],
   "source": [
    "def hopcroft():\n",
    "    global endset\n",
    "    global allstatus\n",
    "    global paths\n",
    "\n",
    "    #将终止状态集合和全部状态集转化为集合，方便之后做减法\n",
    "    #endSet=set(endset)\n",
    "    #allStatus=set(allstatus)\n",
    "    #paths=set(sigma)\n",
    "    \n",
    "    #初始化终止状态和非终止状态\n",
    "    terminated_states=endset\n",
    "    not_terminated_states=allstatus-terminated_states\n",
    "    \n",
    "    P = [terminated_states, not_terminated_states]\n",
    "    # P 是状态分组的列表\n",
    "    W = [terminated_states, not_terminated_states]\n",
    "    # W 是待处理的状态的列表\n",
    "    \n",
    "    while W:\n",
    "        #select and remove S from W\n",
    "        S=W[0]\n",
    "        W.remove(S)\n",
    "        #选择一个A（未处理的状态集合的首部）\n",
    "        #在W中移除（即将开始处理A）\n",
    "        \n",
    "        for path in paths:\n",
    "            # 对每一个输入字符，查找对能转换到当前状态的状态集合la ← δ^-1(S, a)\n",
    "            la=get_source_state(S,path)\n",
    "            \n",
    "            # 存储分隔后的新状态集合\n",
    "            new_split_state=[]\n",
    "            \n",
    "            #for all R in P such that R ∩ la ≠ ∅ and R ∉ la do\n",
    "            for R in P:\n",
    "                condition1=R&la\n",
    "                condition2=R-la\n",
    "                \n",
    "                if len(condition1) and len(condition2):\n",
    "                    \n",
    "                    #partition R into R1 and R2: R1 ← R ∩ la and R2 ← R − R1\n",
    "                    #不能在这里直接对P进行操作，P在之后还要遍历呢\n",
    "                    new_split_state.append(condition1)\n",
    "                    new_split_state.append(condition2)\n",
    "                \n",
    "                    #if R ∈ W then\n",
    "                    if R in W:\n",
    "                        \n",
    "                        #replace R in W with R1 and R2\n",
    "                        W.remove(R)\n",
    "                        W.append(condition1)\n",
    "                        W.append(condition2)\n",
    "                        \n",
    "                    #else\n",
    "                    else:\n",
    "                        \n",
    "                        #if |R1| ≤ |R2| then\n",
    "                        if len(condition1)<=len(condition2):\n",
    "                        \n",
    "                            #add R1 to W\n",
    "                            W.append(condition1)\n",
    "                            \n",
    "                        #else\n",
    "                        else:\n",
    "                            \n",
    "                            #add R2 to W\n",
    "                            W.append(condition2)\n",
    "\n",
    "                else:\n",
    "                    new_split_state.append(R)\n",
    "                    \n",
    "            #replace R in P with R1 and R2\n",
    "            P=deepcopy(new_split_state)\n",
    "    return P           \n",
    "                            "
   ]
  },
  {
   "cell_type": "code",
   "execution_count": 5,
   "id": "02b199b8",
   "metadata": {},
   "outputs": [],
   "source": [
    "def getdata_dfa():\n",
    "    global paths\n",
    "    global DFA\n",
    "    global allstatus\n",
    "    global dot\n",
    "    global endset\n",
    "    \n",
    "    #打开文件并读取数据\n",
    "    f=open('data.txt')\n",
    "    content=f.readlines()\n",
    "    src_num=len(content)\n",
    "    f.close()\n",
    "    \n",
    "    for i in range(src_num):\n",
    "        temp=content[i].split()\n",
    "        #temp是一个列表，其中有每一行的所有元素\n",
    "        \n",
    "        DFA.append(temp)\n",
    "        paths.append(temp[1])\n",
    "        allstatus.append(temp[0])\n",
    "        allstatus.append(temp[2])\n",
    "        \n",
    "        if temp[0]==DFA[0][0]:\n",
    "            if temp[0] not in endset:\n",
    "                dot.node(name=temp[0],color='blue')\n",
    "            else:\n",
    "                dot.node(name=temp[0],color='blue',shape='doublecircle')\n",
    "        elif temp[0] in endset:\n",
    "            dot.node(name=temp[0],color='red',shape='doublecircle')\n",
    "        else:\n",
    "            dot.node(name=temp[0],color='black')\n",
    "            \n",
    "        dot.edge(temp[0], temp[2], temp[1])\n",
    "    \n",
    "    #使用集合去重\n",
    "    paths=set(paths)\n",
    "    allstatus=set(allstatus)"
   ]
  },
  {
   "cell_type": "code",
   "execution_count": 6,
   "id": "632e0542",
   "metadata": {},
   "outputs": [],
   "source": [
    "def getdata_end():\n",
    "    global endset\n",
    "    \n",
    "    f=open('endstate.txt')\n",
    "    content=f.readlines()\n",
    "    line_num=len(content)\n",
    "    f.close()\n",
    "    \n",
    "    for i in range(line_num):\n",
    "        endset.append(content[i][0])\n",
    "\n",
    "    endset=set(endset)\n",
    "    "
   ]
  },
  {
   "cell_type": "code",
   "execution_count": 7,
   "id": "e47205d3",
   "metadata": {},
   "outputs": [],
   "source": [
    "def printprint(printsth):\n",
    "    for i in range(len(printsth)):\n",
    "        print(printsth[i])"
   ]
  },
  {
   "cell_type": "code",
   "execution_count": 8,
   "id": "2be2ef18",
   "metadata": {},
   "outputs": [],
   "source": [
    "paths=[]\n",
    "endset=[]\n",
    "allstatus=[]\n",
    "\n",
    "DFA=[]"
   ]
  },
  {
   "cell_type": "code",
   "execution_count": 9,
   "id": "20b9e2dd",
   "metadata": {},
   "outputs": [],
   "source": [
    "dot = Digraph(\"DFA\")"
   ]
  },
  {
   "cell_type": "code",
   "execution_count": 10,
   "id": "378a2295",
   "metadata": {},
   "outputs": [],
   "source": [
    "getdata_end()\n",
    "getdata_dfa()"
   ]
  },
  {
   "cell_type": "code",
   "execution_count": 11,
   "id": "0246cae7",
   "metadata": {},
   "outputs": [
    {
     "name": "stdout",
     "output_type": "stream",
     "text": [
      "DFA:\n",
      "['S', 'a', 'A']\n",
      "['S', 'b', 'B']\n",
      "['A', 'a', 'C']\n",
      "['A', 'b', 'B']\n",
      "['B', 'a', 'A']\n",
      "['B', 'b', 'D']\n",
      "['C', 'a', 'C']\n",
      "['C', 'b', 'E']\n",
      "['D', 'a', 'F']\n",
      "['D', 'b', 'D']\n",
      "['E', 'a', 'F']\n",
      "['E', 'b', 'D']\n",
      "['F', 'a', 'C']\n",
      "['F', 'b', 'E']\n"
     ]
    }
   ],
   "source": [
    "print(\"DFA:\")\n",
    "printprint(DFA)"
   ]
  },
  {
   "cell_type": "code",
   "execution_count": 12,
   "id": "825d7c36",
   "metadata": {},
   "outputs": [
    {
     "data": {
      "text/plain": [
       "'DFA.pdf'"
      ]
     },
     "execution_count": 12,
     "metadata": {},
     "output_type": "execute_result"
    }
   ],
   "source": [
    "dot.render('DFA', view=True)"
   ]
  },
  {
   "cell_type": "code",
   "execution_count": 13,
   "id": "5fb0c5d3",
   "metadata": {},
   "outputs": [],
   "source": [
    "minDFA = hopcroft()"
   ]
  },
  {
   "cell_type": "code",
   "execution_count": 14,
   "id": "ddb4fa00",
   "metadata": {},
   "outputs": [
    {
     "name": "stdout",
     "output_type": "stream",
     "text": [
      "minDFA:\n",
      "{'E', 'C', 'D', 'F'}\n",
      "{'A'}\n",
      "{'B'}\n",
      "{'S'}\n"
     ]
    }
   ],
   "source": [
    "print(\"minDFA:\")\n",
    "printprint(minDFA)"
   ]
  },
  {
   "cell_type": "code",
   "execution_count": 15,
   "id": "39b49c1a",
   "metadata": {},
   "outputs": [],
   "source": [
    "result_DFA=[]"
   ]
  },
  {
   "cell_type": "code",
   "execution_count": 16,
   "id": "da7cc7f7",
   "metadata": {},
   "outputs": [],
   "source": [
    "def get_index_in_minDFA(state):\n",
    "    #找到当前状态state在minDFA中的索引值\n",
    "    for i in range(len(minDFA)):\n",
    "        if state in minDFA[i]:\n",
    "            return i\n",
    "    return ' '"
   ]
  },
  {
   "cell_type": "code",
   "execution_count": 17,
   "id": "91916353",
   "metadata": {},
   "outputs": [],
   "source": [
    "def get_new_path():\n",
    "    global minDFA\n",
    "    global paths\n",
    "    global result_DFA\n",
    "\n",
    "    Paths=list(paths)\n",
    "    MinDFA=list(minDFA)\n",
    "    #将集合转换成列表，方便访问下标\n",
    "\n",
    "    for i in range(len(MinDFA)):\n",
    "        #对于每一个状态，找到其可以到达的新状态\n",
    "        states=list(MinDFA[i])\n",
    "\n",
    "        #用于存储新的DFA的每一种状态经过各path后到的新状态\n",
    "        dst_states = [0] * len(Paths)\n",
    "\n",
    "        for j in range(len(states)):\n",
    "            #对于其中的每一个状态\n",
    "\n",
    "            for path in range(len(Paths)):\n",
    "                #对于每一种输入\n",
    "\n",
    "                if dst_states[path]==0 and move2(states[j],Paths[path]) !=' ':\n",
    "                    ptr=get_index_in_minDFA(move2(states[j],Paths[path]))\n",
    "                    #ptr是当前状态当前输入下的新状态在minDFA中的索引值\n",
    "\n",
    "                    dst_states[path]=min(MinDFA[ptr])\n",
    "                    #此时要找到ptr索引值对应的minDFA的那一个状态数组的最小值（重新命名）\n",
    "\n",
    "        for j in range(len(Paths)):\n",
    "            if dst_states[j]!=0:\n",
    "                temp=[]\n",
    "                temp.append(min(minDFA[i]))\n",
    "                temp.append(Paths[j])\n",
    "                temp.append(dst_states[j])\n",
    "\n",
    "                result_DFA.append(temp)\n"
   ]
  },
  {
   "cell_type": "code",
   "execution_count": 18,
   "id": "764602f2",
   "metadata": {},
   "outputs": [
    {
     "name": "stdout",
     "output_type": "stream",
     "text": [
      "result_DFA:\n",
      "['C', 'a', 'C']\n",
      "['C', 'b', 'C']\n",
      "['A', 'a', 'C']\n",
      "['A', 'b', 'B']\n",
      "['B', 'a', 'A']\n",
      "['B', 'b', 'C']\n",
      "['S', 'a', 'A']\n",
      "['S', 'b', 'B']\n"
     ]
    }
   ],
   "source": [
    "get_new_path()\n",
    "print(\"result_DFA:\")\n",
    "printprint(result_DFA)"
   ]
  },
  {
   "cell_type": "code",
   "execution_count": 19,
   "id": "79edf0a3",
   "metadata": {},
   "outputs": [],
   "source": [
    "dot2 = Digraph(\"newDFA\")"
   ]
  },
  {
   "cell_type": "code",
   "execution_count": 20,
   "id": "d124ca4e",
   "metadata": {},
   "outputs": [],
   "source": [
    "for i in range(len(result_DFA)):\n",
    "    if result_DFA[i][0] in endset:\n",
    "        dot2.node(name=result_DFA[i][0],color=\"red\",shape='doublecircle')\n",
    "    else:\n",
    "        dot2.node(name=result_DFA[i][0],color=\"black\")\n",
    "\n",
    "    dot2.edge(result_DFA[i][0],result_DFA[i][2],result_DFA[i][1])"
   ]
  },
  {
   "cell_type": "code",
   "execution_count": 21,
   "id": "080ec400",
   "metadata": {},
   "outputs": [
    {
     "data": {
      "text/plain": [
       "'minDFA.pdf'"
      ]
     },
     "execution_count": 21,
     "metadata": {},
     "output_type": "execute_result"
    }
   ],
   "source": [
    "dot2.render('minDFA', view=True)"
   ]
  }
 ],
 "metadata": {
  "kernelspec": {
   "display_name": "Python 3 (ipykernel)",
   "language": "python",
   "name": "python3"
  },
  "language_info": {
   "codemirror_mode": {
    "name": "ipython",
    "version": 3
   },
   "file_extension": ".py",
   "mimetype": "text/x-python",
   "name": "python",
   "nbconvert_exporter": "python",
   "pygments_lexer": "ipython3",
   "version": "3.11.4"
  }
 },
 "nbformat": 4,
 "nbformat_minor": 5
}
